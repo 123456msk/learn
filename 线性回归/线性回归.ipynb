{
 "cells": [
  {
   "cell_type": "code",
   "id": "initial_id",
   "metadata": {
    "collapsed": true,
    "ExecuteTime": {
     "end_time": "2024-10-17T13:16:42.381985Z",
     "start_time": "2024-10-17T13:16:39.867446Z"
    }
   },
   "source": [
    "%matplotlib inline\n",
    "import torch\n",
    "import matplotlib.pyplot as plt\n",
    "import random"
   ],
   "outputs": [],
   "execution_count": 1
  },
  {
   "metadata": {
    "ExecuteTime": {
     "end_time": "2024-10-17T13:16:42.413050Z",
     "start_time": "2024-10-17T13:16:42.395473Z"
    }
   },
   "cell_type": "code",
   "source": [
    "def synthetic_data(w,b,num_examples):\n",
    "    \"\"\"生成y=Xw+b+噪声\"\"\"\n",
    "    X = torch.normal(0, 1, (num_examples,len(w)))\n",
    "    y = torch.matmul(X,w) + b\n",
    "    y += torch.normal(0,0.01,y.shape)\n",
    "    return X,y.reshape((-1,1))\n",
    "\n",
    "true_w = torch.tensor([2,-3.4])\n",
    "true_b = 4.2\n",
    "features,labels = synthetic_data(true_w,true_b,1000)"
   ],
   "id": "30d682083137a2e2",
   "outputs": [],
   "execution_count": 2
  },
  {
   "metadata": {
    "ExecuteTime": {
     "end_time": "2024-10-17T13:16:42.629514Z",
     "start_time": "2024-10-17T13:16:42.507481Z"
    }
   },
   "cell_type": "code",
   "source": "plt.scatter(features[:,1].detach().numpy(),labels.detach().numpy(),1)",
   "id": "75d861646653c72a",
   "outputs": [
    {
     "data": {
      "text/plain": [
       "<matplotlib.collections.PathCollection at 0x2665058e310>"
      ]
     },
     "execution_count": 3,
     "metadata": {},
     "output_type": "execute_result"
    },
    {
     "data": {
      "text/plain": [
       "<Figure size 640x480 with 1 Axes>"
      ],
      "image/png": "[encoded data removed]"
     },
     "metadata": {},
     "output_type": "display_data"
    }
   ],
   "execution_count": 3
  },
  {
   "metadata": {
    "ExecuteTime": {
     "end_time": "2024-10-17T13:16:42.691056Z",
     "start_time": "2024-10-17T13:16:42.681119Z"
    }
   },
   "cell_type": "code",
   "source": [
    "def data_iter(batch_size,features,labels):\n",
    "    num_examples = len(features)\n",
    "    indices = list(range(num_examples))\n",
    "    random.shuffle(indices)\n",
    "    for i in range(0,num_examples,batch_size):\n",
    "        batch_indices = torch.tensor(indices[i:min(i + batch_size,num_examples)])\n",
    "        yield features[batch_indices],labels[batch_indices]\n",
    "\n",
    "batch_size = 10\n",
    "\n",
    "for X,y in data_iter(batch_size,features,labels):\n",
    "    print(X,'\\n',y)\n",
    "    break"
   ],
   "id": "b26f77ba7318461e",
   "outputs": [
    {
     "name": "stdout",
     "output_type": "stream",
     "text": [
      "tensor([[ 0.2120, -0.0203],\n",
      "        [-1.9756, -1.0586],\n",
      "        [ 0.1584,  0.4742],\n",
      "        [ 0.5144,  2.3531],\n",
      "        [-0.6730,  0.4879],\n",
      "        [ 1.1571,  0.1782],\n",
      "        [-0.2981,  0.4545],\n",
      "        [ 1.4970,  0.7083],\n",
      "        [ 0.9997, -0.3138],\n",
      "        [ 1.4042,  0.3241]]) \n",
      " tensor([[ 4.7009],\n",
      "        [ 3.8545],\n",
      "        [ 2.9070],\n",
      "        [-2.7803],\n",
      "        [ 1.2087],\n",
      "        [ 5.9101],\n",
      "        [ 2.0525],\n",
      "        [ 4.7826],\n",
      "        [ 7.2457],\n",
      "        [ 5.9128]])\n"
     ]
    }
   ],
   "execution_count": 4
  },
  {
   "metadata": {
    "ExecuteTime": {
     "end_time": "2024-10-17T13:16:42.737269Z",
     "start_time": "2024-10-17T13:16:42.732800Z"
    }
   },
   "cell_type": "code",
   "source": [
    "w = torch.normal(0,0.01,(2,1),requires_grad=True)\n",
    "b = torch.zeros(1,requires_grad=True)"
   ],
   "id": "1262b0eeae8e8ac5",
   "outputs": [],
   "execution_count": 5
  },
  {
   "metadata": {
    "ExecuteTime": {
     "end_time": "2024-10-17T13:16:42.783584Z",
     "start_time": "2024-10-17T13:16:42.770044Z"
    }
   },
   "cell_type": "code",
   "source": [
    "def linreg(X,w,b):\n",
    "    return torch.matmul(X,w) + b"
   ],
   "id": "2ddbd3ae6ffe1be3",
   "outputs": [],
   "execution_count": 6
  },
  {
   "metadata": {
    "ExecuteTime": {
     "end_time": "2024-10-17T13:16:42.829843Z",
     "start_time": "2024-10-17T13:16:42.815916Z"
    }
   },
   "cell_type": "code",
   "source": [
    "def squared_loss(y_hat,y):\n",
    "    return (y_hat - y)**2 / 2"
   ],
   "id": "9def01a53d11e0dc",
   "outputs": [],
   "execution_count": 7
  },
  {
   "metadata": {
    "ExecuteTime": {
     "end_time": "2024-10-17T13:16:42.875998Z",
     "start_time": "2024-10-17T13:16:42.861934Z"
    }
   },
   "cell_type": "code",
   "source": [
    "\"\"\"小批量随机梯度下降\"\"\"\n",
    "def sgd(params,lr,batch_size):\n",
    "    with torch.no_grad():\n",
    "        for param in params:\n",
    "            param -= lr * param.grad / batch_size\n",
    "            param.grad.zero_()"
   ],
   "id": "bd641067e39d790c",
   "outputs": [],
   "execution_count": 8
  },
  {
   "metadata": {
    "ExecuteTime": {
     "end_time": "2024-10-17T13:16:42.998707Z",
     "start_time": "2024-10-17T13:16:42.908509Z"
    }
   },
   "cell_type": "code",
   "source": [
    "lr = 0.03\n",
    "num_epochs = 3\n",
    "net = linreg\n",
    "loss = squared_loss\n",
    "\n",
    "for epoch in range(num_epochs):\n",
    "    for X,y in data_iter(batch_size,features,labels):\n",
    "        l = loss(net(X,w,b),y)\n",
    "        l.sum().backward()\n",
    "        sgd([w,b],lr,batch_size)\n",
    "    with torch.no_grad():\n",
    "        train_1 = loss(net(features,w,b),labels)\n",
    "        print(f'epoch {epoch + 1}, loss {float(train_1.mean()):f}')"
   ],
   "id": "fcc643382867829a",
   "outputs": [
    {
     "name": "stdout",
     "output_type": "stream",
     "text": [
      "epoch 1, loss 0.056627\n",
      "epoch 2, loss 0.000263\n",
      "epoch 3, loss 0.000051\n"
     ]
    }
   ],
   "execution_count": 9
  },
  {
   "metadata": {
    "ExecuteTime": {
     "end_time": "2024-10-17T13:26:35.136688Z",
     "start_time": "2024-10-17T13:26:35.127892Z"
    }
   },
   "cell_type": "code",
   "source": [
    "print(f'w的估计误差: {true_w - w.reshape(true_w.shape)}')\n",
    "print(f'b的估计误差: {true_b - b}')"
   ],
   "id": "eb2f80e8417ce4ae",
   "outputs": [
    {
     "name": "stdout",
     "output_type": "stream",
     "text": [
      "tensor([[ 1.9999],\n",
      "        [-3.3999]], requires_grad=True)\n",
      "w的估计误差: tensor([ 5.6863e-05, -5.1737e-05], grad_fn=<SubBackward0>)\n",
      "b的估计误差: tensor([0.0009], grad_fn=<RsubBackward1>)\n"
     ]
    }
   ],
   "execution_count": 13
  }
 ],
 "metadata": {
  "kernelspec": {
   "display_name": "Python 3",
   "language": "python",
   "name": "python3"
  },
  "language_info": {
   "codemirror_mode": {
    "name": "ipython",
    "version": 2
   },
   "file_extension": ".py",
   "mimetype": "text/x-python",
   "name": "python",
   "nbconvert_exporter": "python",
   "pygments_lexer": "ipython2",
   "version": "2.7.6"
  }
 },
 "nbformat": 4,
 "nbformat_minor": 5
}
