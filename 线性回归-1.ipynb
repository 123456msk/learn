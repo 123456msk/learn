{
 "cells": [
  {
   "cell_type": "code",
   "id": "initial_id",
   "metadata": {
    "collapsed": true,
    "ExecuteTime": {
     "end_time": "2024-10-18T04:01:18.299497Z",
     "start_time": "2024-10-18T04:01:18.292018Z"
    }
   },
   "source": [
    "import torch\n",
    "import numpy as np\n",
    "from torch.utils import data\n",
    "\n",
    "from 线性回归 import true_w, true_b, features\n"
   ],
   "outputs": [],
   "execution_count": 21
  },
  {
   "metadata": {
    "ExecuteTime": {
     "end_time": "2024-10-18T04:01:18.314963Z",
     "start_time": "2024-10-18T04:01:18.303490Z"
    }
   },
   "cell_type": "code",
   "source": [
    "true_w = torch.tensor([2,-3.4])\n",
    "true_b = 4.2\n",
    "\n",
    "def synthetic_data(w,b,num_examples):\n",
    "    \"\"\"生成y=Xw+b+噪声\"\"\"\n",
    "    X = torch.normal(0, 1, (num_examples,len(w)))\n",
    "    y = torch.matmul(X,w) + b\n",
    "    y += torch.normal(0,0.01,y.shape)\n",
    "    return X,y.reshape((-1,1))\n",
    "\n",
    "features,labels = synthetic_data(true_w,true_b,1000)"
   ],
   "id": "989c03ab43b0563",
   "outputs": [],
   "execution_count": 22
  },
  {
   "metadata": {
    "ExecuteTime": {
     "end_time": "2024-10-18T04:01:18.361402Z",
     "start_time": "2024-10-18T04:01:18.346910Z"
    }
   },
   "cell_type": "code",
   "source": [
    "def load_array(data_arrays,batch_size,is_train=True):\n",
    "    dataset = data.TensorDataset(*data_arrays)\n",
    "    return data.DataLoader(dataset=dataset,batch_size=batch_size,shuffle=is_train)"
   ],
   "id": "4f95cf8cacad4852",
   "outputs": [],
   "execution_count": 23
  },
  {
   "metadata": {
    "ExecuteTime": {
     "end_time": "2024-10-18T04:01:18.407604Z",
     "start_time": "2024-10-18T04:01:18.393695Z"
    }
   },
   "cell_type": "code",
   "source": [
    "batch_size = 10\n",
    "data_iter = load_array((features,labels),batch_size)\n",
    "next(iter(data_iter))"
   ],
   "id": "4b174dd4b0fc954e",
   "outputs": [
    {
     "data": {
      "text/plain": [
       "[tensor([[-3.3153, -0.1985],\n",
       "         [ 0.5175, -0.5822],\n",
       "         [-0.7966, -0.9556],\n",
       "         [ 0.0915, -0.0650],\n",
       "         [ 0.4336, -0.0692],\n",
       "         [-0.0338, -1.6130],\n",
       "         [ 0.3271, -0.1232],\n",
       "         [ 0.0374, -0.4037],\n",
       "         [ 0.6060,  0.3382],\n",
       "         [ 1.4048, -0.2461]]),\n",
       " tensor([[-1.7452],\n",
       "         [ 7.2165],\n",
       "         [ 5.8586],\n",
       "         [ 4.6100],\n",
       "         [ 5.2978],\n",
       "         [ 9.6239],\n",
       "         [ 5.2743],\n",
       "         [ 5.6430],\n",
       "         [ 4.2564],\n",
       "         [ 7.8647]])]"
      ]
     },
     "execution_count": 24,
     "metadata": {},
     "output_type": "execute_result"
    }
   ],
   "execution_count": 24
  },
  {
   "metadata": {
    "ExecuteTime": {
     "end_time": "2024-10-18T04:01:18.453655Z",
     "start_time": "2024-10-18T04:01:18.439241Z"
    }
   },
   "cell_type": "code",
   "source": [
    "from torch import nn\n",
    "\n",
    "net = nn.Sequential(nn.Linear(2,1))\n",
    "net[0].weight.data.normal_(0.0, 0.01)\n",
    "net[0].bias.data.fill_(0)"
   ],
   "id": "62bb06ffd998ce63",
   "outputs": [
    {
     "data": {
      "text/plain": [
       "tensor([0.])"
      ]
     },
     "execution_count": 25,
     "metadata": {},
     "output_type": "execute_result"
    }
   ],
   "execution_count": 25
  },
  {
   "metadata": {
    "ExecuteTime": {
     "end_time": "2024-10-18T04:01:18.530796Z",
     "start_time": "2024-10-18T04:01:18.516256Z"
    }
   },
   "cell_type": "code",
   "source": "loss = nn.MSELoss()",
   "id": "b6303d27fc265143",
   "outputs": [],
   "execution_count": 26
  },
  {
   "metadata": {
    "ExecuteTime": {
     "end_time": "2024-10-18T04:01:18.576790Z",
     "start_time": "2024-10-18T04:01:18.562634Z"
    }
   },
   "cell_type": "code",
   "source": "trainer = torch.optim.SGD(net.parameters(),lr=0.03)",
   "id": "f78fddb3f24d9a39",
   "outputs": [],
   "execution_count": 27
  },
  {
   "metadata": {
    "ExecuteTime": {
     "end_time": "2024-10-18T04:01:19.007702Z",
     "start_time": "2024-10-18T04:01:18.581757Z"
    }
   },
   "cell_type": "code",
   "source": [
    "num_epochs = 10\n",
    "for epoch in range(num_epochs):\n",
    "    for X,y in data_iter:\n",
    "        l = loss(net(X),y)\n",
    "        trainer.zero_grad()\n",
    "        l.backward()\n",
    "        trainer.step()\n",
    "    l = loss(net(features),labels)\n",
    "    print(f\"epoch {epoch + 1},loss {l:f}\")\n"
   ],
   "id": "193c69dff61b313b",
   "outputs": [
    {
     "name": "stdout",
     "output_type": "stream",
     "text": [
      "epoch 1,loss 0.000219\n",
      "epoch 2,loss 0.000107\n",
      "epoch 3,loss 0.000107\n",
      "epoch 4,loss 0.000108\n",
      "epoch 5,loss 0.000107\n",
      "epoch 6,loss 0.000108\n",
      "epoch 7,loss 0.000108\n",
      "epoch 8,loss 0.000107\n",
      "epoch 9,loss 0.000107\n",
      "epoch 10,loss 0.000107\n"
     ]
    }
   ],
   "execution_count": 28
  },
  {
   "metadata": {},
   "cell_type": "code",
   "outputs": [],
   "execution_count": null,
   "source": "print(net[0].weight.data.numpy(),net[0].bias.data.numpy())",
   "id": "9e7879ffc1e5aec6"
  }
 ],
 "metadata": {
  "kernelspec": {
   "display_name": "Python 3",
   "language": "python",
   "name": "python3"
  },
  "language_info": {
   "codemirror_mode": {
    "name": "ipython",
    "version": 2
   },
   "file_extension": ".py",
   "mimetype": "text/x-python",
   "name": "python",
   "nbconvert_exporter": "python",
   "pygments_lexer": "ipython2",
   "version": "2.7.6"
  }
 },
 "nbformat": 4,
 "nbformat_minor": 5
}
